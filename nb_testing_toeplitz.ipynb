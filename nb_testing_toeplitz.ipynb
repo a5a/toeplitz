{
 "cells": [
  {
   "cell_type": "markdown",
   "metadata": {},
   "source": [
    "### Testing the Toeplitz inversion method"
   ]
  },
  {
   "cell_type": "code",
   "execution_count": 1,
   "metadata": {
    "collapsed": true
   },
   "outputs": [],
   "source": [
    "import numpy as np\n",
    "import scipy.linalg as spl\n",
    "from toeplitz import toeplitz_inverse\n",
    "import matplotlib.pyplot as plt\n",
    "%matplotlib inline\n",
    "# import seaborn as sns\n",
    "np.set_printoptions(suppress=True)"
   ]
  },
  {
   "cell_type": "code",
   "execution_count": 2,
   "metadata": {
    "collapsed": false
   },
   "outputs": [
    {
     "name": "stdout",
     "output_type": "stream",
     "text": [
      "[[ 5.  4.  3.  2.  1.]\n",
      " [ 4.  5.  4.  3.  2.]\n",
      " [ 3.  4.  5.  4.  3.]\n",
      " [ 2.  3.  4.  5.  4.]\n",
      " [ 1.  2.  3.  4.  5.]]\n"
     ]
    }
   ],
   "source": [
    "N = 50\n",
    "x = np.linspace(0, 10, N)[:, None]\n",
    "\n",
    "t = np.exp(-(x - x.T)**2 / 8.)\n",
    "t = t + np.diag(np.ones(N))\n",
    "\n",
    "c = np.array(np.arange(5,0,-1), dtype=float)\n",
    "m = spl.toeplitz(c)\n",
    "print m\n",
    "\n",
    "# print np.linalg.cond(m)\n",
    "# print x.shape, t.shape\n",
    "# print np.amin(t), np.amax(t)"
   ]
  },
  {
   "cell_type": "code",
   "execution_count": 3,
   "metadata": {
    "collapsed": false
   },
   "outputs": [],
   "source": [
    "np_inv = np.linalg.inv(m)\n",
    "np_logdet = np.log(np.linalg.det(m))"
   ]
  },
  {
   "cell_type": "code",
   "execution_count": 4,
   "metadata": {
    "collapsed": false
   },
   "outputs": [],
   "source": [
    "my_inv, my_logdet = toeplitz_inverse(m)"
   ]
  },
  {
   "cell_type": "code",
   "execution_count": 5,
   "metadata": {
    "collapsed": false
   },
   "outputs": [
    {
     "name": "stdout",
     "output_type": "stream",
     "text": [
      "logdet diff =  2.6645352591e-15\n",
      "inv max diff =  1.11022302463e-15\n"
     ]
    },
    {
     "data": {
      "image/png": "[encoded data removed]",
      "text/plain": [
       "<matplotlib.figure.Figure at 0x10e12f510>"
      ]
     },
     "metadata": {},
     "output_type": "display_data"
    }
   ],
   "source": [
    "diff = np.sqrt((np_inv - my_inv)**2)\n",
    "\n",
    "print 'logdet diff = ', np_logdet - my_logdet\n",
    "print 'inv max diff = ', np.amax(diff)\n",
    "# print diff\n",
    "\n",
    "plt.matshow(diff)\n",
    "plt.show()"
   ]
  },
  {
   "cell_type": "code",
   "execution_count": null,
   "metadata": {
    "collapsed": true
   },
   "outputs": [],
   "source": []
  },
  {
   "cell_type": "code",
   "execution_count": null,
   "metadata": {
    "collapsed": true
   },
   "outputs": [],
   "source": []
  }
 ],
 "metadata": {
  "kernelspec": {
   "display_name": "Python 2",
   "language": "python",
   "name": "python2"
  },
  "language_info": {
   "codemirror_mode": {
    "name": "ipython",
    "version": 2
   },
   "file_extension": ".py",
   "mimetype": "text/x-python",
   "name": "python",
   "nbconvert_exporter": "python",
   "pygments_lexer": "ipython2",
   "version": "2.7.9"
  }
 },
 "nbformat": 4,
 "nbformat_minor": 0
}
